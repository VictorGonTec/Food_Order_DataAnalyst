{
 "cells": [
  {
   "cell_type": "code",
   "execution_count": 1,
   "id": "c9ce92a2",
   "metadata": {},
   "outputs": [
    {
     "name": "stdout",
     "output_type": "stream",
     "text": [
      "<pyodbc.Connection object at 0x0000018F552A1A30>\n"
     ]
    }
   ],
   "source": [
    "import pandas as pd\n",
    "import matplotlib.pyplot as plt\n",
    "import numpy as np\n",
    "from conexion_sqlserver import make_dataframe"
   ]
  },
  {
   "cell_type": "markdown",
   "id": "69f2ac21",
   "metadata": {},
   "source": [
    "## Showing the Data"
   ]
  },
  {
   "cell_type": "code",
   "execution_count": 2,
   "id": "bb915b9d",
   "metadata": {},
   "outputs": [
    {
     "data": {
      "text/html": [
       "<div>\n",
       "<style scoped>\n",
       "    .dataframe tbody tr th:only-of-type {\n",
       "        vertical-align: middle;\n",
       "    }\n",
       "\n",
       "    .dataframe tbody tr th {\n",
       "        vertical-align: top;\n",
       "    }\n",
       "\n",
       "    .dataframe thead th {\n",
       "        text-align: right;\n",
       "    }\n",
       "</style>\n",
       "<table border=\"1\" class=\"dataframe\">\n",
       "  <thead>\n",
       "    <tr style=\"text-align: right;\">\n",
       "      <th></th>\n",
       "      <th>order_id</th>\n",
       "      <th>customer_id</th>\n",
       "      <th>restaurant_name</th>\n",
       "      <th>cuisine_type</th>\n",
       "      <th>cost_of_the_order</th>\n",
       "      <th>day_of_the_week</th>\n",
       "      <th>rating</th>\n",
       "      <th>food_preparation_time</th>\n",
       "      <th>delivery_time</th>\n",
       "    </tr>\n",
       "  </thead>\n",
       "  <tbody>\n",
       "    <tr>\n",
       "      <th>0</th>\n",
       "      <td>1477147.0</td>\n",
       "      <td>337525.0</td>\n",
       "      <td>Hangawi</td>\n",
       "      <td>Korean</td>\n",
       "      <td>30.75</td>\n",
       "      <td>Weekend</td>\n",
       "      <td>NaN</td>\n",
       "      <td>25.0</td>\n",
       "      <td>20.0</td>\n",
       "    </tr>\n",
       "    <tr>\n",
       "      <th>1</th>\n",
       "      <td>1477685.0</td>\n",
       "      <td>358141.0</td>\n",
       "      <td>Blue Ribbon Sushi Izakaya</td>\n",
       "      <td>Japanese</td>\n",
       "      <td>12.08</td>\n",
       "      <td>Weekend</td>\n",
       "      <td>NaN</td>\n",
       "      <td>25.0</td>\n",
       "      <td>23.0</td>\n",
       "    </tr>\n",
       "    <tr>\n",
       "      <th>2</th>\n",
       "      <td>1477070.0</td>\n",
       "      <td>66393.0</td>\n",
       "      <td>Cafe Habana</td>\n",
       "      <td>Mexican</td>\n",
       "      <td>12.23</td>\n",
       "      <td>Weekday</td>\n",
       "      <td>5.0</td>\n",
       "      <td>23.0</td>\n",
       "      <td>28.0</td>\n",
       "    </tr>\n",
       "    <tr>\n",
       "      <th>3</th>\n",
       "      <td>1477334.0</td>\n",
       "      <td>106968.0</td>\n",
       "      <td>Blue Ribbon Fried Chicken</td>\n",
       "      <td>American</td>\n",
       "      <td>29.20</td>\n",
       "      <td>Weekend</td>\n",
       "      <td>3.0</td>\n",
       "      <td>25.0</td>\n",
       "      <td>15.0</td>\n",
       "    </tr>\n",
       "    <tr>\n",
       "      <th>4</th>\n",
       "      <td>1478249.0</td>\n",
       "      <td>76942.0</td>\n",
       "      <td>Dirty Bird to Go</td>\n",
       "      <td>American</td>\n",
       "      <td>11.59</td>\n",
       "      <td>Weekday</td>\n",
       "      <td>4.0</td>\n",
       "      <td>25.0</td>\n",
       "      <td>24.0</td>\n",
       "    </tr>\n",
       "  </tbody>\n",
       "</table>\n",
       "</div>"
      ],
      "text/plain": [
       "    order_id  customer_id            restaurant_name cuisine_type  \\\n",
       "0  1477147.0     337525.0                    Hangawi       Korean   \n",
       "1  1477685.0     358141.0  Blue Ribbon Sushi Izakaya     Japanese   \n",
       "2  1477070.0      66393.0                Cafe Habana      Mexican   \n",
       "3  1477334.0     106968.0  Blue Ribbon Fried Chicken     American   \n",
       "4  1478249.0      76942.0           Dirty Bird to Go     American   \n",
       "\n",
       "   cost_of_the_order day_of_the_week  rating  food_preparation_time  \\\n",
       "0              30.75         Weekend     NaN                   25.0   \n",
       "1              12.08         Weekend     NaN                   25.0   \n",
       "2              12.23         Weekday     5.0                   23.0   \n",
       "3              29.20         Weekend     3.0                   25.0   \n",
       "4              11.59         Weekday     4.0                   25.0   \n",
       "\n",
       "   delivery_time  \n",
       "0           20.0  \n",
       "1           23.0  \n",
       "2           28.0  \n",
       "3           15.0  \n",
       "4           24.0  "
      ]
     },
     "execution_count": 2,
     "metadata": {},
     "output_type": "execute_result"
    }
   ],
   "source": [
    "food_order=make_dataframe()\n",
    "food_order.head()"
   ]
  },
  {
   "cell_type": "code",
   "execution_count": 25,
   "id": "6c79843a",
   "metadata": {},
   "outputs": [
    {
     "data": {
      "text/html": [
       "<div>\n",
       "<style scoped>\n",
       "    .dataframe tbody tr th:only-of-type {\n",
       "        vertical-align: middle;\n",
       "    }\n",
       "\n",
       "    .dataframe tbody tr th {\n",
       "        vertical-align: top;\n",
       "    }\n",
       "\n",
       "    .dataframe thead th {\n",
       "        text-align: right;\n",
       "    }\n",
       "</style>\n",
       "<table border=\"1\" class=\"dataframe\">\n",
       "  <thead>\n",
       "    <tr style=\"text-align: right;\">\n",
       "      <th></th>\n",
       "      <th>order_id</th>\n",
       "      <th>customer_id</th>\n",
       "      <th>restaurant_name</th>\n",
       "      <th>cuisine_type</th>\n",
       "      <th>cost_of_the_order</th>\n",
       "      <th>day_of_the_week</th>\n",
       "      <th>rating</th>\n",
       "      <th>food_preparation_time</th>\n",
       "      <th>delivery_time</th>\n",
       "    </tr>\n",
       "  </thead>\n",
       "  <tbody>\n",
       "    <tr>\n",
       "      <th>1893</th>\n",
       "      <td>1476701.0</td>\n",
       "      <td>292602.0</td>\n",
       "      <td>Chipotle Mexican Grill $1.99 Delivery</td>\n",
       "      <td>Mexican</td>\n",
       "      <td>22.31</td>\n",
       "      <td>Weekend</td>\n",
       "      <td>5.0</td>\n",
       "      <td>31.0</td>\n",
       "      <td>17.0</td>\n",
       "    </tr>\n",
       "    <tr>\n",
       "      <th>1894</th>\n",
       "      <td>1477421.0</td>\n",
       "      <td>397537.0</td>\n",
       "      <td>The Smile</td>\n",
       "      <td>American</td>\n",
       "      <td>12.18</td>\n",
       "      <td>Weekend</td>\n",
       "      <td>5.0</td>\n",
       "      <td>31.0</td>\n",
       "      <td>19.0</td>\n",
       "    </tr>\n",
       "    <tr>\n",
       "      <th>1895</th>\n",
       "      <td>1477819.0</td>\n",
       "      <td>35309.0</td>\n",
       "      <td>Blue Ribbon Sushi</td>\n",
       "      <td>Japanese</td>\n",
       "      <td>25.22</td>\n",
       "      <td>Weekday</td>\n",
       "      <td>Not Available</td>\n",
       "      <td>31.0</td>\n",
       "      <td>24.0</td>\n",
       "    </tr>\n",
       "    <tr>\n",
       "      <th>1896</th>\n",
       "      <td>1477513.0</td>\n",
       "      <td>64151.0</td>\n",
       "      <td>Jack's Wife Freda</td>\n",
       "      <td>Mediterranean</td>\n",
       "      <td>12.18</td>\n",
       "      <td>Weekday</td>\n",
       "      <td>5.0</td>\n",
       "      <td>23.0</td>\n",
       "      <td>31.0</td>\n",
       "    </tr>\n",
       "    <tr>\n",
       "      <th>1897</th>\n",
       "      <td>1478056.0</td>\n",
       "      <td>120353.0</td>\n",
       "      <td>Blue Ribbon Sushi</td>\n",
       "      <td>Japanese</td>\n",
       "      <td>19.45</td>\n",
       "      <td>Weekend</td>\n",
       "      <td>Not Available</td>\n",
       "      <td>28.0</td>\n",
       "      <td>24.0</td>\n",
       "    </tr>\n",
       "  </tbody>\n",
       "</table>\n",
       "</div>"
      ],
      "text/plain": [
       "       order_id  customer_id                        restaurant_name  \\\n",
       "1893  1476701.0     292602.0  Chipotle Mexican Grill $1.99 Delivery   \n",
       "1894  1477421.0     397537.0                              The Smile   \n",
       "1895  1477819.0      35309.0                      Blue Ribbon Sushi   \n",
       "1896  1477513.0      64151.0                      Jack's Wife Freda   \n",
       "1897  1478056.0     120353.0                      Blue Ribbon Sushi   \n",
       "\n",
       "       cuisine_type  cost_of_the_order day_of_the_week         rating  \\\n",
       "1893        Mexican              22.31         Weekend            5.0   \n",
       "1894       American              12.18         Weekend            5.0   \n",
       "1895       Japanese              25.22         Weekday  Not Available   \n",
       "1896  Mediterranean              12.18         Weekday            5.0   \n",
       "1897       Japanese              19.45         Weekend  Not Available   \n",
       "\n",
       "      food_preparation_time  delivery_time  \n",
       "1893                   31.0           17.0  \n",
       "1894                   31.0           19.0  \n",
       "1895                   31.0           24.0  \n",
       "1896                   23.0           31.0  \n",
       "1897                   28.0           24.0  "
      ]
     },
     "execution_count": 25,
     "metadata": {},
     "output_type": "execute_result"
    }
   ],
   "source": [
    "food_order.tail()"
   ]
  },
  {
   "cell_type": "code",
   "execution_count": 3,
   "id": "a8d8ebb4",
   "metadata": {},
   "outputs": [
    {
     "data": {
      "text/plain": [
       "Index(['order_id', 'customer_id', 'restaurant_name', 'cuisine_type',\n",
       "       'cost_of_the_order', 'day_of_the_week', 'rating',\n",
       "       'food_preparation_time', 'delivery_time'],\n",
       "      dtype='object')"
      ]
     },
     "execution_count": 3,
     "metadata": {},
     "output_type": "execute_result"
    }
   ],
   "source": [
    "food_order.columns"
   ]
  },
  {
   "cell_type": "code",
   "execution_count": 4,
   "id": "2601c1c2",
   "metadata": {},
   "outputs": [
    {
     "data": {
      "text/plain": [
       "order_id                 float64\n",
       "customer_id              float64\n",
       "restaurant_name           object\n",
       "cuisine_type              object\n",
       "cost_of_the_order        float64\n",
       "day_of_the_week           object\n",
       "rating                   float64\n",
       "food_preparation_time    float64\n",
       "delivery_time            float64\n",
       "dtype: object"
      ]
     },
     "execution_count": 4,
     "metadata": {},
     "output_type": "execute_result"
    }
   ],
   "source": [
    "food_order.dtypes"
   ]
  },
  {
   "cell_type": "code",
   "execution_count": 5,
   "id": "2e620107",
   "metadata": {},
   "outputs": [
    {
     "data": {
      "text/html": [
       "<div>\n",
       "<style scoped>\n",
       "    .dataframe tbody tr th:only-of-type {\n",
       "        vertical-align: middle;\n",
       "    }\n",
       "\n",
       "    .dataframe tbody tr th {\n",
       "        vertical-align: top;\n",
       "    }\n",
       "\n",
       "    .dataframe thead th {\n",
       "        text-align: right;\n",
       "    }\n",
       "</style>\n",
       "<table border=\"1\" class=\"dataframe\">\n",
       "  <thead>\n",
       "    <tr style=\"text-align: right;\">\n",
       "      <th></th>\n",
       "      <th>order_id</th>\n",
       "      <th>customer_id</th>\n",
       "      <th>cost_of_the_order</th>\n",
       "      <th>rating</th>\n",
       "      <th>food_preparation_time</th>\n",
       "      <th>delivery_time</th>\n",
       "    </tr>\n",
       "  </thead>\n",
       "  <tbody>\n",
       "    <tr>\n",
       "      <th>count</th>\n",
       "      <td>1.898000e+03</td>\n",
       "      <td>1898.000000</td>\n",
       "      <td>1898.000000</td>\n",
       "      <td>1162.000000</td>\n",
       "      <td>1898.000000</td>\n",
       "      <td>1898.000000</td>\n",
       "    </tr>\n",
       "    <tr>\n",
       "      <th>mean</th>\n",
       "      <td>1.477496e+06</td>\n",
       "      <td>171168.478398</td>\n",
       "      <td>16.498851</td>\n",
       "      <td>4.344234</td>\n",
       "      <td>27.371970</td>\n",
       "      <td>24.161749</td>\n",
       "    </tr>\n",
       "    <tr>\n",
       "      <th>std</th>\n",
       "      <td>5.480497e+02</td>\n",
       "      <td>113698.139743</td>\n",
       "      <td>7.483812</td>\n",
       "      <td>0.741478</td>\n",
       "      <td>4.632481</td>\n",
       "      <td>4.972637</td>\n",
       "    </tr>\n",
       "    <tr>\n",
       "      <th>min</th>\n",
       "      <td>1.476547e+06</td>\n",
       "      <td>1311.000000</td>\n",
       "      <td>4.470000</td>\n",
       "      <td>3.000000</td>\n",
       "      <td>20.000000</td>\n",
       "      <td>15.000000</td>\n",
       "    </tr>\n",
       "    <tr>\n",
       "      <th>25%</th>\n",
       "      <td>1.477021e+06</td>\n",
       "      <td>77787.750000</td>\n",
       "      <td>12.080000</td>\n",
       "      <td>4.000000</td>\n",
       "      <td>23.000000</td>\n",
       "      <td>20.000000</td>\n",
       "    </tr>\n",
       "    <tr>\n",
       "      <th>50%</th>\n",
       "      <td>1.477496e+06</td>\n",
       "      <td>128600.000000</td>\n",
       "      <td>14.140000</td>\n",
       "      <td>5.000000</td>\n",
       "      <td>27.000000</td>\n",
       "      <td>25.000000</td>\n",
       "    </tr>\n",
       "    <tr>\n",
       "      <th>75%</th>\n",
       "      <td>1.477970e+06</td>\n",
       "      <td>270525.000000</td>\n",
       "      <td>22.297500</td>\n",
       "      <td>5.000000</td>\n",
       "      <td>31.000000</td>\n",
       "      <td>28.000000</td>\n",
       "    </tr>\n",
       "    <tr>\n",
       "      <th>max</th>\n",
       "      <td>1.478444e+06</td>\n",
       "      <td>405334.000000</td>\n",
       "      <td>35.410000</td>\n",
       "      <td>5.000000</td>\n",
       "      <td>35.000000</td>\n",
       "      <td>33.000000</td>\n",
       "    </tr>\n",
       "  </tbody>\n",
       "</table>\n",
       "</div>"
      ],
      "text/plain": [
       "           order_id    customer_id  cost_of_the_order       rating  \\\n",
       "count  1.898000e+03    1898.000000        1898.000000  1162.000000   \n",
       "mean   1.477496e+06  171168.478398          16.498851     4.344234   \n",
       "std    5.480497e+02  113698.139743           7.483812     0.741478   \n",
       "min    1.476547e+06    1311.000000           4.470000     3.000000   \n",
       "25%    1.477021e+06   77787.750000          12.080000     4.000000   \n",
       "50%    1.477496e+06  128600.000000          14.140000     5.000000   \n",
       "75%    1.477970e+06  270525.000000          22.297500     5.000000   \n",
       "max    1.478444e+06  405334.000000          35.410000     5.000000   \n",
       "\n",
       "       food_preparation_time  delivery_time  \n",
       "count            1898.000000    1898.000000  \n",
       "mean               27.371970      24.161749  \n",
       "std                 4.632481       4.972637  \n",
       "min                20.000000      15.000000  \n",
       "25%                23.000000      20.000000  \n",
       "50%                27.000000      25.000000  \n",
       "75%                31.000000      28.000000  \n",
       "max                35.000000      33.000000  "
      ]
     },
     "execution_count": 5,
     "metadata": {},
     "output_type": "execute_result"
    }
   ],
   "source": [
    "food_order.describe()"
   ]
  },
  {
   "cell_type": "code",
   "execution_count": 6,
   "id": "a03993e1",
   "metadata": {},
   "outputs": [
    {
     "data": {
      "text/plain": [
       "(1898, 9)"
      ]
     },
     "execution_count": 6,
     "metadata": {},
     "output_type": "execute_result"
    }
   ],
   "source": [
    "food_order.shape"
   ]
  },
  {
   "cell_type": "markdown",
   "id": "558b7451",
   "metadata": {},
   "source": [
    "### showing duplicated"
   ]
  },
  {
   "cell_type": "code",
   "execution_count": 7,
   "id": "f32c5ee6",
   "metadata": {},
   "outputs": [
    {
     "data": {
      "text/plain": [
       "0       False\n",
       "1       False\n",
       "2       False\n",
       "3       False\n",
       "4       False\n",
       "        ...  \n",
       "1893    False\n",
       "1894    False\n",
       "1895    False\n",
       "1896    False\n",
       "1897    False\n",
       "Length: 1898, dtype: bool"
      ]
     },
     "execution_count": 7,
     "metadata": {},
     "output_type": "execute_result"
    }
   ],
   "source": [
    "food_order.duplicated()"
   ]
  },
  {
   "cell_type": "code",
   "execution_count": 8,
   "id": "a56fda1b",
   "metadata": {},
   "outputs": [
    {
     "data": {
      "text/plain": [
       "0"
      ]
     },
     "execution_count": 8,
     "metadata": {},
     "output_type": "execute_result"
    }
   ],
   "source": [
    "food_order.duplicated().sum()"
   ]
  },
  {
   "cell_type": "markdown",
   "id": "c9342ac3",
   "metadata": {},
   "source": [
    "### showing null/empty values"
   ]
  },
  {
   "cell_type": "code",
   "execution_count": 9,
   "id": "623212b1",
   "metadata": {},
   "outputs": [
    {
     "data": {
      "text/plain": [
       "order_id                   0\n",
       "customer_id                0\n",
       "restaurant_name            0\n",
       "cuisine_type               0\n",
       "cost_of_the_order          0\n",
       "day_of_the_week            0\n",
       "rating                   736\n",
       "food_preparation_time      0\n",
       "delivery_time              0\n",
       "dtype: int64"
      ]
     },
     "execution_count": 9,
     "metadata": {},
     "output_type": "execute_result"
    }
   ],
   "source": [
    "food_order.isna().sum()"
   ]
  },
  {
   "cell_type": "code",
   "execution_count": 10,
   "id": "c639d840",
   "metadata": {},
   "outputs": [
    {
     "data": {
      "text/html": [
       "<div>\n",
       "<style scoped>\n",
       "    .dataframe tbody tr th:only-of-type {\n",
       "        vertical-align: middle;\n",
       "    }\n",
       "\n",
       "    .dataframe tbody tr th {\n",
       "        vertical-align: top;\n",
       "    }\n",
       "\n",
       "    .dataframe thead th {\n",
       "        text-align: right;\n",
       "    }\n",
       "</style>\n",
       "<table border=\"1\" class=\"dataframe\">\n",
       "  <thead>\n",
       "    <tr style=\"text-align: right;\">\n",
       "      <th></th>\n",
       "      <th>order_id</th>\n",
       "      <th>customer_id</th>\n",
       "      <th>restaurant_name</th>\n",
       "      <th>cuisine_type</th>\n",
       "      <th>cost_of_the_order</th>\n",
       "      <th>day_of_the_week</th>\n",
       "      <th>rating</th>\n",
       "      <th>food_preparation_time</th>\n",
       "      <th>delivery_time</th>\n",
       "    </tr>\n",
       "  </thead>\n",
       "  <tbody>\n",
       "    <tr>\n",
       "      <th>0</th>\n",
       "      <td>1477147.0</td>\n",
       "      <td>337525.0</td>\n",
       "      <td>Hangawi</td>\n",
       "      <td>Korean</td>\n",
       "      <td>30.75</td>\n",
       "      <td>Weekend</td>\n",
       "      <td>NaN</td>\n",
       "      <td>25.0</td>\n",
       "      <td>20.0</td>\n",
       "    </tr>\n",
       "    <tr>\n",
       "      <th>1</th>\n",
       "      <td>1477685.0</td>\n",
       "      <td>358141.0</td>\n",
       "      <td>Blue Ribbon Sushi Izakaya</td>\n",
       "      <td>Japanese</td>\n",
       "      <td>12.08</td>\n",
       "      <td>Weekend</td>\n",
       "      <td>NaN</td>\n",
       "      <td>25.0</td>\n",
       "      <td>23.0</td>\n",
       "    </tr>\n",
       "    <tr>\n",
       "      <th>6</th>\n",
       "      <td>1477894.0</td>\n",
       "      <td>157711.0</td>\n",
       "      <td>The Meatball Shop</td>\n",
       "      <td>Italian</td>\n",
       "      <td>6.07</td>\n",
       "      <td>Weekend</td>\n",
       "      <td>NaN</td>\n",
       "      <td>28.0</td>\n",
       "      <td>21.0</td>\n",
       "    </tr>\n",
       "    <tr>\n",
       "      <th>10</th>\n",
       "      <td>1477895.0</td>\n",
       "      <td>143926.0</td>\n",
       "      <td>Big Wong Restaurant ÂŒ_Â¤Â¾Ã‘Â¼</td>\n",
       "      <td>Chinese</td>\n",
       "      <td>5.92</td>\n",
       "      <td>Weekday</td>\n",
       "      <td>NaN</td>\n",
       "      <td>34.0</td>\n",
       "      <td>28.0</td>\n",
       "    </tr>\n",
       "    <tr>\n",
       "      <th>14</th>\n",
       "      <td>1478198.0</td>\n",
       "      <td>62667.0</td>\n",
       "      <td>Lucky's Famous Burgers</td>\n",
       "      <td>American</td>\n",
       "      <td>12.13</td>\n",
       "      <td>Weekday</td>\n",
       "      <td>NaN</td>\n",
       "      <td>23.0</td>\n",
       "      <td>30.0</td>\n",
       "    </tr>\n",
       "    <tr>\n",
       "      <th>...</th>\n",
       "      <td>...</td>\n",
       "      <td>...</td>\n",
       "      <td>...</td>\n",
       "      <td>...</td>\n",
       "      <td>...</td>\n",
       "      <td>...</td>\n",
       "      <td>...</td>\n",
       "      <td>...</td>\n",
       "      <td>...</td>\n",
       "    </tr>\n",
       "    <tr>\n",
       "      <th>1887</th>\n",
       "      <td>1476873.0</td>\n",
       "      <td>237616.0</td>\n",
       "      <td>Shake Shack</td>\n",
       "      <td>American</td>\n",
       "      <td>5.82</td>\n",
       "      <td>Weekend</td>\n",
       "      <td>NaN</td>\n",
       "      <td>26.0</td>\n",
       "      <td>30.0</td>\n",
       "    </tr>\n",
       "    <tr>\n",
       "      <th>1891</th>\n",
       "      <td>1476981.0</td>\n",
       "      <td>138586.0</td>\n",
       "      <td>Shake Shack</td>\n",
       "      <td>American</td>\n",
       "      <td>5.82</td>\n",
       "      <td>Weekend</td>\n",
       "      <td>NaN</td>\n",
       "      <td>22.0</td>\n",
       "      <td>28.0</td>\n",
       "    </tr>\n",
       "    <tr>\n",
       "      <th>1892</th>\n",
       "      <td>1477473.0</td>\n",
       "      <td>97838.0</td>\n",
       "      <td>Han Dynasty</td>\n",
       "      <td>Chinese</td>\n",
       "      <td>29.15</td>\n",
       "      <td>Weekend</td>\n",
       "      <td>NaN</td>\n",
       "      <td>29.0</td>\n",
       "      <td>21.0</td>\n",
       "    </tr>\n",
       "    <tr>\n",
       "      <th>1895</th>\n",
       "      <td>1477819.0</td>\n",
       "      <td>35309.0</td>\n",
       "      <td>Blue Ribbon Sushi</td>\n",
       "      <td>Japanese</td>\n",
       "      <td>25.22</td>\n",
       "      <td>Weekday</td>\n",
       "      <td>NaN</td>\n",
       "      <td>31.0</td>\n",
       "      <td>24.0</td>\n",
       "    </tr>\n",
       "    <tr>\n",
       "      <th>1897</th>\n",
       "      <td>1478056.0</td>\n",
       "      <td>120353.0</td>\n",
       "      <td>Blue Ribbon Sushi</td>\n",
       "      <td>Japanese</td>\n",
       "      <td>19.45</td>\n",
       "      <td>Weekend</td>\n",
       "      <td>NaN</td>\n",
       "      <td>28.0</td>\n",
       "      <td>24.0</td>\n",
       "    </tr>\n",
       "  </tbody>\n",
       "</table>\n",
       "<p>736 rows × 9 columns</p>\n",
       "</div>"
      ],
      "text/plain": [
       "       order_id  customer_id                  restaurant_name cuisine_type  \\\n",
       "0     1477147.0     337525.0                          Hangawi       Korean   \n",
       "1     1477685.0     358141.0        Blue Ribbon Sushi Izakaya     Japanese   \n",
       "6     1477894.0     157711.0                The Meatball Shop      Italian   \n",
       "10    1477895.0     143926.0  Big Wong Restaurant ÂŒ_Â¤Â¾Ã‘Â¼      Chinese   \n",
       "14    1478198.0      62667.0           Lucky's Famous Burgers     American   \n",
       "...         ...          ...                              ...          ...   \n",
       "1887  1476873.0     237616.0                      Shake Shack     American   \n",
       "1891  1476981.0     138586.0                      Shake Shack     American   \n",
       "1892  1477473.0      97838.0                      Han Dynasty      Chinese   \n",
       "1895  1477819.0      35309.0                Blue Ribbon Sushi     Japanese   \n",
       "1897  1478056.0     120353.0                Blue Ribbon Sushi     Japanese   \n",
       "\n",
       "      cost_of_the_order day_of_the_week  rating  food_preparation_time  \\\n",
       "0                 30.75         Weekend     NaN                   25.0   \n",
       "1                 12.08         Weekend     NaN                   25.0   \n",
       "6                  6.07         Weekend     NaN                   28.0   \n",
       "10                 5.92         Weekday     NaN                   34.0   \n",
       "14                12.13         Weekday     NaN                   23.0   \n",
       "...                 ...             ...     ...                    ...   \n",
       "1887               5.82         Weekend     NaN                   26.0   \n",
       "1891               5.82         Weekend     NaN                   22.0   \n",
       "1892              29.15         Weekend     NaN                   29.0   \n",
       "1895              25.22         Weekday     NaN                   31.0   \n",
       "1897              19.45         Weekend     NaN                   28.0   \n",
       "\n",
       "      delivery_time  \n",
       "0              20.0  \n",
       "1              23.0  \n",
       "6              21.0  \n",
       "10             28.0  \n",
       "14             30.0  \n",
       "...             ...  \n",
       "1887           30.0  \n",
       "1891           28.0  \n",
       "1892           21.0  \n",
       "1895           24.0  \n",
       "1897           24.0  \n",
       "\n",
       "[736 rows x 9 columns]"
      ]
     },
     "execution_count": 10,
     "metadata": {},
     "output_type": "execute_result"
    }
   ],
   "source": [
    "food_order[food_order['rating'].isna()]"
   ]
  },
  {
   "cell_type": "code",
   "execution_count": 11,
   "id": "944e9f86",
   "metadata": {},
   "outputs": [],
   "source": [
    "food_order['rating'].fillna('Not Available',inplace=True)"
   ]
  },
  {
   "cell_type": "code",
   "execution_count": 12,
   "id": "bd211b58",
   "metadata": {},
   "outputs": [
    {
     "data": {
      "text/plain": [
       "order_id                 0\n",
       "customer_id              0\n",
       "restaurant_name          0\n",
       "cuisine_type             0\n",
       "cost_of_the_order        0\n",
       "day_of_the_week          0\n",
       "rating                   0\n",
       "food_preparation_time    0\n",
       "delivery_time            0\n",
       "dtype: int64"
      ]
     },
     "execution_count": 12,
     "metadata": {},
     "output_type": "execute_result"
    }
   ],
   "source": [
    "food_order.isna().sum()"
   ]
  },
  {
   "cell_type": "markdown",
   "id": "e29d25c3",
   "metadata": {},
   "source": [
    "## Viasualization Data \"Graphics\""
   ]
  },
  {
   "cell_type": "code",
   "execution_count": 13,
   "id": "4c855b84",
   "metadata": {},
   "outputs": [
    {
     "data": {
      "image/png": "[encoded data removed]",
      "text/plain": [
       "<Figure size 2000x1000 with 6 Axes>"
      ]
     },
     "metadata": {},
     "output_type": "display_data"
    }
   ],
   "source": [
    "food_order.hist(bins=60,figsize=(20,10))\n",
    "plt.show()"
   ]
  },
  {
   "cell_type": "code",
   "execution_count": 14,
   "id": "4b89ad49",
   "metadata": {},
   "outputs": [
    {
     "data": {
      "text/plain": [
       "array(['Korean', 'Japanese', 'Mexican', 'American', 'Indian', 'Italian',\n",
       "       'Mediterranean', 'Chinese', 'Middle Eastern', 'Thai', 'Southern',\n",
       "       'French', 'Spanish', 'Vietnamese'], dtype=object)"
      ]
     },
     "execution_count": 14,
     "metadata": {},
     "output_type": "execute_result"
    }
   ],
   "source": [
    "cuisine_type=food_order['cuisine_type'].unique()\n",
    "cuisine_type"
   ]
  },
  {
   "cell_type": "code",
   "execution_count": 15,
   "id": "cde46624",
   "metadata": {},
   "outputs": [
    {
     "data": {
      "text/plain": [
       "16.498851422550054"
      ]
     },
     "execution_count": 15,
     "metadata": {},
     "output_type": "execute_result"
    }
   ],
   "source": [
    "cost_mean=food_order.loc[:,'cost_of_the_order'].mean()\n",
    "cost_mean"
   ]
  },
  {
   "cell_type": "code",
   "execution_count": 16,
   "id": "2d1d20e9",
   "metadata": {},
   "outputs": [],
   "source": [
    "food_O=food_order.groupby('cuisine_type')['cost_of_the_order'].mean()"
   ]
  },
  {
   "cell_type": "code",
   "execution_count": 17,
   "id": "3cf5a458",
   "metadata": {},
   "outputs": [
    {
     "data": {
      "text/html": [
       "<div>\n",
       "<style scoped>\n",
       "    .dataframe tbody tr th:only-of-type {\n",
       "        vertical-align: middle;\n",
       "    }\n",
       "\n",
       "    .dataframe tbody tr th {\n",
       "        vertical-align: top;\n",
       "    }\n",
       "\n",
       "    .dataframe thead th {\n",
       "        text-align: right;\n",
       "    }\n",
       "</style>\n",
       "<table border=\"1\" class=\"dataframe\">\n",
       "  <thead>\n",
       "    <tr style=\"text-align: right;\">\n",
       "      <th></th>\n",
       "      <th>cost_of_the_order</th>\n",
       "    </tr>\n",
       "  </thead>\n",
       "  <tbody>\n",
       "    <tr>\n",
       "      <th>Korean</th>\n",
       "      <td>14.001538</td>\n",
       "    </tr>\n",
       "    <tr>\n",
       "      <th>Japanese</th>\n",
       "      <td>16.304532</td>\n",
       "    </tr>\n",
       "    <tr>\n",
       "      <th>Mexican</th>\n",
       "      <td>16.933117</td>\n",
       "    </tr>\n",
       "    <tr>\n",
       "      <th>American</th>\n",
       "      <td>16.319829</td>\n",
       "    </tr>\n",
       "    <tr>\n",
       "      <th>Indian</th>\n",
       "      <td>16.919726</td>\n",
       "    </tr>\n",
       "    <tr>\n",
       "      <th>Italian</th>\n",
       "      <td>16.418691</td>\n",
       "    </tr>\n",
       "    <tr>\n",
       "      <th>Mediterranean</th>\n",
       "      <td>15.474783</td>\n",
       "    </tr>\n",
       "    <tr>\n",
       "      <th>Chinese</th>\n",
       "      <td>16.305209</td>\n",
       "    </tr>\n",
       "    <tr>\n",
       "      <th>Middle Eastern</th>\n",
       "      <td>18.820612</td>\n",
       "    </tr>\n",
       "    <tr>\n",
       "      <th>Thai</th>\n",
       "      <td>19.207895</td>\n",
       "    </tr>\n",
       "    <tr>\n",
       "      <th>Southern</th>\n",
       "      <td>19.300588</td>\n",
       "    </tr>\n",
       "    <tr>\n",
       "      <th>French</th>\n",
       "      <td>19.793889</td>\n",
       "    </tr>\n",
       "    <tr>\n",
       "      <th>Spanish</th>\n",
       "      <td>18.994167</td>\n",
       "    </tr>\n",
       "    <tr>\n",
       "      <th>Vietnamese</th>\n",
       "      <td>12.882857</td>\n",
       "    </tr>\n",
       "  </tbody>\n",
       "</table>\n",
       "</div>"
      ],
      "text/plain": [
       "                cost_of_the_order\n",
       "Korean                  14.001538\n",
       "Japanese                16.304532\n",
       "Mexican                 16.933117\n",
       "American                16.319829\n",
       "Indian                  16.919726\n",
       "Italian                 16.418691\n",
       "Mediterranean           15.474783\n",
       "Chinese                 16.305209\n",
       "Middle Eastern          18.820612\n",
       "Thai                    19.207895\n",
       "Southern                19.300588\n",
       "French                  19.793889\n",
       "Spanish                 18.994167\n",
       "Vietnamese              12.882857"
      ]
     },
     "execution_count": 17,
     "metadata": {},
     "output_type": "execute_result"
    }
   ],
   "source": [
    "food_price_order=pd.DataFrame(food_O,cuisine_type)\n",
    "food_price_order"
   ]
  },
  {
   "cell_type": "markdown",
   "id": "6f9931ac",
   "metadata": {},
   "source": [
    "### Showing The mean price of diference food types"
   ]
  },
  {
   "cell_type": "code",
   "execution_count": 18,
   "id": "5f956920",
   "metadata": {},
   "outputs": [
    {
     "data": {
      "image/png": "[encoded data removed]",
      "text/plain": [
       "<Figure size 1000x800 with 1 Axes>"
      ]
     },
     "metadata": {},
     "output_type": "display_data"
    }
   ],
   "source": [
    "fig=plt.figure(figsize=(10,8))\n",
    "plt.bar(food_price_order.index,food_price_order['cost_of_the_order'])\n",
    "plt.xticks(rotation=45)\n",
    "plt.xlabel('food_type')\n",
    "plt.ylabel('price_order_mean')\n",
    "plt.show()"
   ]
  },
  {
   "cell_type": "code",
   "execution_count": 19,
   "id": "6fe85bcf",
   "metadata": {},
   "outputs": [
    {
     "data": {
      "text/html": [
       "<div>\n",
       "<style scoped>\n",
       "    .dataframe tbody tr th:only-of-type {\n",
       "        vertical-align: middle;\n",
       "    }\n",
       "\n",
       "    .dataframe tbody tr th {\n",
       "        vertical-align: top;\n",
       "    }\n",
       "\n",
       "    .dataframe thead th {\n",
       "        text-align: right;\n",
       "    }\n",
       "</style>\n",
       "<table border=\"1\" class=\"dataframe\">\n",
       "  <thead>\n",
       "    <tr style=\"text-align: right;\">\n",
       "      <th></th>\n",
       "      <th>order_id</th>\n",
       "      <th>customer_id</th>\n",
       "      <th>restaurant_name</th>\n",
       "      <th>cuisine_type</th>\n",
       "      <th>cost_of_the_order</th>\n",
       "      <th>day_of_the_week</th>\n",
       "      <th>rating</th>\n",
       "      <th>food_preparation_time</th>\n",
       "      <th>delivery_time</th>\n",
       "    </tr>\n",
       "  </thead>\n",
       "  <tbody>\n",
       "    <tr>\n",
       "      <th>0</th>\n",
       "      <td>1477147.0</td>\n",
       "      <td>337525.0</td>\n",
       "      <td>Hangawi</td>\n",
       "      <td>Korean</td>\n",
       "      <td>30.75</td>\n",
       "      <td>Weekend</td>\n",
       "      <td>Not Available</td>\n",
       "      <td>25.0</td>\n",
       "      <td>20.0</td>\n",
       "    </tr>\n",
       "    <tr>\n",
       "      <th>1</th>\n",
       "      <td>1477685.0</td>\n",
       "      <td>358141.0</td>\n",
       "      <td>Blue Ribbon Sushi Izakaya</td>\n",
       "      <td>Japanese</td>\n",
       "      <td>12.08</td>\n",
       "      <td>Weekend</td>\n",
       "      <td>Not Available</td>\n",
       "      <td>25.0</td>\n",
       "      <td>23.0</td>\n",
       "    </tr>\n",
       "    <tr>\n",
       "      <th>2</th>\n",
       "      <td>1477070.0</td>\n",
       "      <td>66393.0</td>\n",
       "      <td>Cafe Habana</td>\n",
       "      <td>Mexican</td>\n",
       "      <td>12.23</td>\n",
       "      <td>Weekday</td>\n",
       "      <td>5.0</td>\n",
       "      <td>23.0</td>\n",
       "      <td>28.0</td>\n",
       "    </tr>\n",
       "    <tr>\n",
       "      <th>3</th>\n",
       "      <td>1477334.0</td>\n",
       "      <td>106968.0</td>\n",
       "      <td>Blue Ribbon Fried Chicken</td>\n",
       "      <td>American</td>\n",
       "      <td>29.20</td>\n",
       "      <td>Weekend</td>\n",
       "      <td>3.0</td>\n",
       "      <td>25.0</td>\n",
       "      <td>15.0</td>\n",
       "    </tr>\n",
       "    <tr>\n",
       "      <th>4</th>\n",
       "      <td>1478249.0</td>\n",
       "      <td>76942.0</td>\n",
       "      <td>Dirty Bird to Go</td>\n",
       "      <td>American</td>\n",
       "      <td>11.59</td>\n",
       "      <td>Weekday</td>\n",
       "      <td>4.0</td>\n",
       "      <td>25.0</td>\n",
       "      <td>24.0</td>\n",
       "    </tr>\n",
       "  </tbody>\n",
       "</table>\n",
       "</div>"
      ],
      "text/plain": [
       "    order_id  customer_id            restaurant_name cuisine_type  \\\n",
       "0  1477147.0     337525.0                    Hangawi       Korean   \n",
       "1  1477685.0     358141.0  Blue Ribbon Sushi Izakaya     Japanese   \n",
       "2  1477070.0      66393.0                Cafe Habana      Mexican   \n",
       "3  1477334.0     106968.0  Blue Ribbon Fried Chicken     American   \n",
       "4  1478249.0      76942.0           Dirty Bird to Go     American   \n",
       "\n",
       "   cost_of_the_order day_of_the_week         rating  food_preparation_time  \\\n",
       "0              30.75         Weekend  Not Available                   25.0   \n",
       "1              12.08         Weekend  Not Available                   25.0   \n",
       "2              12.23         Weekday            5.0                   23.0   \n",
       "3              29.20         Weekend            3.0                   25.0   \n",
       "4              11.59         Weekday            4.0                   25.0   \n",
       "\n",
       "   delivery_time  \n",
       "0           20.0  \n",
       "1           23.0  \n",
       "2           28.0  \n",
       "3           15.0  \n",
       "4           24.0  "
      ]
     },
     "execution_count": 19,
     "metadata": {},
     "output_type": "execute_result"
    }
   ],
   "source": [
    "food_order.head()"
   ]
  },
  {
   "cell_type": "markdown",
   "id": "6792aee5",
   "metadata": {},
   "source": [
    "### saving the file with the clean data to visualize"
   ]
  },
  {
   "cell_type": "code",
   "execution_count": 23,
   "id": "61357200",
   "metadata": {},
   "outputs": [],
   "source": [
    "food_order.to_csv('foodOrderDataCelaned.csv',index=False)"
   ]
  },
  {
   "cell_type": "code",
   "execution_count": null,
   "id": "27127306",
   "metadata": {},
   "outputs": [],
   "source": []
  }
 ],
 "metadata": {
  "kernelspec": {
   "display_name": "Python 3 (ipykernel)",
   "language": "python",
   "name": "python3"
  },
  "language_info": {
   "codemirror_mode": {
    "name": "ipython",
    "version": 3
   },
   "file_extension": ".py",
   "mimetype": "text/x-python",
   "name": "python",
   "nbconvert_exporter": "python",
   "pygments_lexer": "ipython3",
   "version": "3.10.1"
  }
 },
 "nbformat": 4,
 "nbformat_minor": 5
}
